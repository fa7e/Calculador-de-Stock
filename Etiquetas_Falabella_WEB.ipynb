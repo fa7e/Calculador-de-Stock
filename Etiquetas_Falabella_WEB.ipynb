{
  "nbformat": 4,
  "nbformat_minor": 0,
  "metadata": {
    "colab": {
      "provenance": [],
      "authorship_tag": "ABX9TyMRpL6vicDC5DRxtmPIafMC",
      "include_colab_link": true
    },
    "kernelspec": {
      "name": "python3",
      "display_name": "Python 3"
    },
    "language_info": {
      "name": "python"
    }
  },
  "cells": [
    {
      "cell_type": "markdown",
      "metadata": {
        "id": "view-in-github",
        "colab_type": "text"
      },
      "source": [
        "<a href=\"https://colab.research.google.com/github/fa7e/Calculador-de-Stock/blob/main/Etiquetas_Falabella_WEB.ipynb\" target=\"_parent\"><img src=\"https://colab.research.google.com/assets/colab-badge.svg\" alt=\"Open In Colab\"/></a>"
      ]
    },
    {
      "cell_type": "code",
      "source": [
        "!pip install reportlab"
      ],
      "metadata": {
        "colab": {
          "base_uri": "https://localhost:8080/"
        },
        "id": "ekeDkFJKDKIK",
        "outputId": "065ec4e3-a858-4d56-fc03-dcc6750757aa"
      },
      "execution_count": 3,
      "outputs": [
        {
          "output_type": "stream",
          "name": "stdout",
          "text": [
            "Collecting reportlab\n",
            "  Downloading reportlab-4.4.4-py3-none-any.whl.metadata (1.7 kB)\n",
            "Requirement already satisfied: pillow>=9.0.0 in /usr/local/lib/python3.12/dist-packages (from reportlab) (11.3.0)\n",
            "Requirement already satisfied: charset-normalizer in /usr/local/lib/python3.12/dist-packages (from reportlab) (3.4.4)\n",
            "Downloading reportlab-4.4.4-py3-none-any.whl (2.0 MB)\n",
            "\u001b[?25l   \u001b[90m━━━━━━━━━━━━━━━━━━━━━━━━━━━━━━━━━━━━━━━━\u001b[0m \u001b[32m0.0/2.0 MB\u001b[0m \u001b[31m?\u001b[0m eta \u001b[36m-:--:--\u001b[0m\r\u001b[2K   \u001b[91m━━━━━━\u001b[0m\u001b[90m╺\u001b[0m\u001b[90m━━━━━━━━━━━━━━━━━━━━━━━━━━━━━━━━━\u001b[0m \u001b[32m0.3/2.0 MB\u001b[0m \u001b[31m9.4 MB/s\u001b[0m eta \u001b[36m0:00:01\u001b[0m\r\u001b[2K   \u001b[91m━━━━━━━━━━━━━━━━━━━━━━━━━━━━━━━━━━━━━━━\u001b[0m\u001b[91m╸\u001b[0m \u001b[32m1.9/2.0 MB\u001b[0m \u001b[31m33.8 MB/s\u001b[0m eta \u001b[36m0:00:01\u001b[0m\r\u001b[2K   \u001b[90m━━━━━━━━━━━━━━━━━━━━━━━━━━━━━━━━━━━━━━━━\u001b[0m \u001b[32m2.0/2.0 MB\u001b[0m \u001b[31m25.7 MB/s\u001b[0m eta \u001b[36m0:00:00\u001b[0m\n",
            "\u001b[?25hInstalling collected packages: reportlab\n",
            "Successfully installed reportlab-4.4.4\n"
          ]
        }
      ]
    },
    {
      "cell_type": "code",
      "source": [
        "import pandas as pd\n",
        "from reportlab.lib.units import cm\n",
        "from reportlab.pdfgen import canvas\n",
        "from reportlab.graphics.barcode import code128\n",
        "\n",
        "# --- Leer archivo Excel ---\n",
        "df = pd.read_excel(\"etiquetas.xlsx\")  # debe tener columnas: codigo_local, codigo_sublinea, barcode_texto, SKU, unidades\n",
        "\n",
        "# --- Configuración de página ---\n",
        "page_width = 10 * cm\n",
        "page_height = 15 * cm\n",
        "\n",
        "# --- Crear PDF ---\n",
        "c = canvas.Canvas(\"etiquetas.pdf\", pagesize=(page_width, page_height))\n",
        "\n",
        "for idx, row in df.iterrows():\n",
        "    codigo_local = str(row[\"codigo_local\"])\n",
        "    codigo_sublinea = str(row[\"codigo_sublinea\"])\n",
        "    barcode_texto = str(row[\"barcode_texto\"])\n",
        "    sku = str(row[\"SKU\"])\n",
        "    unidades = str(row[\"unidades\"])\n",
        "\n",
        "    # --- Líneas de ejemplo ---\n",
        "    x_local = page_width - 7*cm\n",
        "    x_sublinea = page_width - 3*cm\n",
        "    line_length = 8 * cm\n",
        "\n",
        "    c.setLineWidth(1)\n",
        "    c.line(x_local, page_height, x_local, page_height - line_length)\n",
        "    c.line(x_sublinea, page_height, x_sublinea, page_height - line_length)\n",
        "\n",
        "    # --- Texto vertical \"Local\" y \"Sub-Linea\" ---\n",
        "    text_below_y_Local = page_height - line_length + 0.8*cm\n",
        "    text_below_y_sublinea = page_height - line_length + 1.3*cm\n",
        "\n",
        "    c.saveState()\n",
        "    c.setFont(\"Helvetica-Bold\", 0.5*cm)\n",
        "    c.translate(x_local + 0.4*cm, text_below_y_Local)\n",
        "    c.rotate(90)\n",
        "    c.drawCentredString(0, 0, \"Local:\")\n",
        "    c.restoreState()\n",
        "\n",
        "    c.saveState()\n",
        "    c.setFont(\"Helvetica-Bold\", 0.5*cm)\n",
        "    c.translate(x_sublinea + 0.4*cm, text_below_y_sublinea)\n",
        "    c.rotate(90)\n",
        "    c.drawCentredString(0, 0, \"Sub-Linea:\")\n",
        "    c.restoreState()\n",
        "\n",
        "    # --- Código editable SOBRE las líneas (vertical) ---\n",
        "    start_y = page_height - line_length + 0.5*cm\n",
        "\n",
        "    # Local\n",
        "    c.saveState()\n",
        "    c.setFont(\"Helvetica\", 2*cm)\n",
        "    c.translate(x_local - 0.1*cm, start_y)\n",
        "    c.rotate(90)\n",
        "    c.drawString(0, 0, codigo_local)\n",
        "    c.restoreState()\n",
        "\n",
        "    # Sublinea\n",
        "    c.saveState()\n",
        "    c.setFont(\"Helvetica\", 2*cm)\n",
        "    c.translate(x_sublinea - 0.1*cm, start_y)\n",
        "    c.rotate(90)\n",
        "    c.drawString(0, 0, codigo_sublinea)\n",
        "    c.restoreState()\n",
        "\n",
        "    # --- NUEVO: SKU y Unidades (debajo de Sub-Linea) ---\n",
        "    sku_y_offset = start_y - 1.5*cm  # 2 cm más abajo del inicio de sublinea\n",
        "    c.saveState()\n",
        "    c.setFont(\"Helvetica\", 0.5*cm)\n",
        "    c.translate(x_sublinea + 2*cm, sku_y_offset)\n",
        "    c.rotate(90)\n",
        "    c.drawString(0, 0, f\"SKU: {sku} - Unidad: {unidades}\")\n",
        "    c.restoreState()\n",
        "\n",
        "    # --- Configuración del código de barras ---\n",
        "    barcode_width = 8 * cm\n",
        "    barcode_height = 3.5 * cm\n",
        "    barcode_x = 1 * cm\n",
        "    barcode_y = 0.5 * cm\n",
        "\n",
        "    barcode = code128.Code128(\n",
        "        barcode_texto,\n",
        "        barHeight=barcode_height,\n",
        "        barWidth=1.5,\n",
        "        humanReadable=False\n",
        "    )\n",
        "    barcode.drawOn(c, barcode_x, barcode_y)\n",
        "\n",
        "    # --- Texto numérico encima del código de barras ---\n",
        "    c.saveState()\n",
        "    c.setFont(\"Helvetica\", 0.3*cm)\n",
        "    text_y_position = barcode_y + barcode_height + 0.4*cm\n",
        "    c.translate(page_width/2, text_y_position)\n",
        "    c.rotate(180)\n",
        "    c.drawCentredString(0, 0, barcode_texto)\n",
        "    c.restoreState()\n",
        "\n",
        "    # --- Nueva página si no es la última ---\n",
        "    if idx < len(df) - 1:\n",
        "        c.showPage()\n",
        "\n",
        "# --- Guardar PDF ---\n",
        "c.save()\n",
        "print(\"✅ PDF generado: etiquetas.pdf\")\n"
      ],
      "metadata": {
        "colab": {
          "base_uri": "https://localhost:8080/"
        },
        "id": "syzB4jZvDYxL",
        "outputId": "9485b8b9-223a-434d-f58d-3ab5b89558fd"
      },
      "execution_count": 17,
      "outputs": [
        {
          "output_type": "stream",
          "name": "stdout",
          "text": [
            "✅ PDF generado: etiquetas.pdf\n"
          ]
        }
      ]
    }
  ]
}